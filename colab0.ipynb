{
 "cells": [
  {
   "cell_type": "markdown",
   "metadata": {
    "collapsed": true,
    "pycharm": {
     "name": "#%% md\n"
    }
   },
   "source": [
    "# 图网络的基本操作\n",
    "这一部分我们将介绍两个包，[NetworkX](https://networkx.org/documentation/stable/) 和[PyTorch Geometric](https://pytorch-geometric.readthedocs.io/en/latest/)."
   ]
  },
  {
   "cell_type": "markdown",
   "source": [
    "## NetworkX Tutorial\n",
    "NetworkX 是最常用于创建、操作和挖掘图形的 Python 包之一。这一节的主要内容来自[colab教程](https://colab.research.google.com/github/jdwittenauer/ipython-notebooks/blob/master/notebooks/libraries/NetworkX.ipynb#scrollTo=zA1OO6huHeV6)"
   ],
   "metadata": {
    "collapsed": false,
    "pycharm": {
     "name": "#%% md\n"
    }
   }
  },
  {
   "cell_type": "markdown",
   "source": [
    "### 设置"
   ],
   "metadata": {
    "collapsed": false,
    "pycharm": {
     "name": "#%% md\n"
    }
   }
  },
  {
   "cell_type": "code",
   "execution_count": 1,
   "outputs": [],
   "source": [
    "# 导入所需要的包\n",
    "import networkx as nx"
   ],
   "metadata": {
    "collapsed": false,
    "pycharm": {
     "name": "#%%\n"
    }
   }
  },
  {
   "cell_type": "markdown",
   "source": [
    "### 图(graph)\n",
    "NetworkX 提供了几个类来存储不同类型的图，例如有向图(directed graph)和无向图(undirected graph)。它还提供了创建多重图（multigraphs,有向和无向）的类。\n",
    "\n",
    "更详细的信息请看参考[NetworkX graph types](https://networkx.org/documentation/stable/reference/classes/index.html)."
   ],
   "metadata": {
    "collapsed": false,
    "pycharm": {
     "name": "#%% md\n"
    }
   }
  },
  {
   "cell_type": "code",
   "execution_count": 2,
   "outputs": [
    {
     "name": "stdout",
     "output_type": "stream",
     "text": [
      "False\n",
      "True\n",
      "{'name': 'Bar'}\n"
     ]
    }
   ],
   "source": [
    "# 创建一个无向图G\n",
    "G = nx.Graph()\n",
    "print(G.is_directed())\n",
    "\n",
    "# 创建一个有向图 H\n",
    "H = nx.DiGraph()\n",
    "print(H.is_directed())\n",
    "\n",
    "# 添加一个图级别的属性\n",
    "G.graph[\"name\"] = \"Bar\"\n",
    "print(G.graph)"
   ],
   "metadata": {
    "collapsed": false,
    "pycharm": {
     "name": "#%%\n"
    }
   }
  },
  {
   "cell_type": "markdown",
   "source": [
    "### Node(节点)\n",
    "节点（带有属性）可以很容易地添加到 NetworkX 图中。"
   ],
   "metadata": {
    "collapsed": false,
    "pycharm": {
     "name": "#%% md\n"
    }
   }
  },
  {
   "cell_type": "code",
   "execution_count": 3,
   "outputs": [
    {
     "name": "stdout",
     "output_type": "stream",
     "text": [
      "Node 0 has the attributes {'feature': 0, 'label': 0}\n"
     ]
    }
   ],
   "source": [
    "# 添加一个节点带有节点级别的属性\n",
    "G.add_node(0, feature=0, label=0)\n",
    "\n",
    "# 得到节点为0的属性\n",
    "node_0_attr = G.nodes[0]\n",
    "print(\"Node 0 has the attributes {}\".format(node_0_attr))"
   ],
   "metadata": {
    "collapsed": false,
    "pycharm": {
     "name": "#%%\n"
    }
   }
  },
  {
   "cell_type": "code",
   "execution_count": 4,
   "outputs": [
    {
     "name": "stdout",
     "output_type": "stream",
     "text": [
      "(0, {'feature': 0, 'label': 0})\n",
      "(1, {'feature': 1, 'label': 1})\n",
      "(2, {'feature': 2, 'label': 2})\n",
      "G has 3 nodes\n"
     ]
    }
   ],
   "source": [
    "# 添加多个带有属性的节点\n",
    "G.add_nodes_from([\n",
    "    (1, {\"feature\": 1, \"label\": 1},),\n",
    "    (2, {\"feature\": 2, \"label\": 2})\n",
    "])\n",
    "\n",
    "# 遍历所有的节点\n",
    "# Set data=True将返回节点属性\n",
    "for node in G.nodes(data=True):\n",
    "    print(node)\n",
    "\n",
    "# 得到节点数\n",
    "num_nodes = G.number_of_nodes()\n",
    "print(\"G has {} nodes\".format(num_nodes))"
   ],
   "metadata": {
    "collapsed": false,
    "pycharm": {
     "name": "#%%\n"
    }
   }
  },
  {
   "cell_type": "markdown",
   "source": [
    "### 边(edge)\n",
    "与节点类似，边（带有属性）也可以很容易地添加到 NetworkX 图中。"
   ],
   "metadata": {
    "collapsed": false,
    "pycharm": {
     "name": "#%% md\n"
    }
   }
  },
  {
   "cell_type": "code",
   "execution_count": 5,
   "outputs": [
    {
     "name": "stdout",
     "output_type": "stream",
     "text": [
      "Edge (0, 1) has the attribution {'weight': 0.5}\n"
     ]
    }
   ],
   "source": [
    "# 添加一个边带有权重0.5\n",
    "G.add_edge(0, 1, weight=0.5)\n",
    "\n",
    "# 得到边(0, 1)的属性\n",
    "edge_0_1_attr = G.edges[(0, 1)]\n",
    "print(\"Edge (0, 1) has the attribution {}\".format(edge_0_1_attr))"
   ],
   "metadata": {
    "collapsed": false,
    "pycharm": {
     "name": "#%%\n"
    }
   }
  },
  {
   "cell_type": "code",
   "execution_count": 6,
   "outputs": [
    {
     "name": "stdout",
     "output_type": "stream",
     "text": [
      "(0, 1)\n",
      "(0, 2)\n",
      "(1, 2)\n",
      "G has 3 edges\n"
     ]
    }
   ],
   "source": [
    "# 添加多条边的权重\n",
    "G.add_edges_from([\n",
    "  (1, 2, {\"weight\": 0.3}),\n",
    "  (2, 0, {\"weight\": 0.1})\n",
    "])\n",
    "\n",
    "# 循环遍历所有的边缘\n",
    "# 这里没有data=True，所以只返回边缘\n",
    "for edge in G.edges():\n",
    "  print(edge)\n",
    "\n",
    "# 得到边数\n",
    "num_edges = G.number_of_edges()\n",
    "print(\"G has {} edges\".format(num_edges))\n"
   ],
   "metadata": {
    "collapsed": false,
    "pycharm": {
     "name": "#%%\n"
    }
   }
  },
  {
   "cell_type": "markdown",
   "source": [
    "### 可视化(Visualization)"
   ],
   "metadata": {
    "collapsed": false,
    "pycharm": {
     "name": "#%% md\n"
    }
   }
  },
  {
   "cell_type": "code",
   "execution_count": 7,
   "outputs": [
    {
     "data": {
      "text/plain": "<Figure size 432x288 with 1 Axes>",
      "image/png": "[encoded data removed]"
     },
     "metadata": {},
     "output_type": "display_data"
    }
   ],
   "source": [
    "# 画出图\n",
    "nx.draw(G, with_labels = True)"
   ],
   "metadata": {
    "collapsed": false,
    "pycharm": {
     "name": "#%%\n"
    }
   }
  },
  {
   "cell_type": "markdown",
   "source": [
    "### 节点度和邻居"
   ],
   "metadata": {
    "collapsed": false,
    "pycharm": {
     "name": "#%% md\n"
    }
   }
  },
  {
   "cell_type": "code",
   "execution_count": 8,
   "outputs": [
    {
     "name": "stdout",
     "output_type": "stream",
     "text": [
      "Node 1 has degree 2\n",
      "Node 1 has neighbor 0\n",
      "Node 1 has neighbor 2\n"
     ]
    }
   ],
   "source": [
    "node_id = 1\n",
    "\n",
    "# 节点1的度\n",
    "print(\"Node {} has degree {}\".format(node_id, G.degree[node_id]))\n",
    "\n",
    "# 得到节点1的邻居节点\n",
    "for neighbor in G.neighbors(node_id):\n",
    "    print(\"Node {} has neighbor {}\".format(node_id, neighbor))"
   ],
   "metadata": {
    "collapsed": false,
    "pycharm": {
     "name": "#%%\n"
    }
   }
  },
  {
   "cell_type": "markdown",
   "source": [
    "### 其他功能\n",
    "NetworkX 还提供了大量有用的方法来研究图形。\n",
    "这是一个获取节点的[PageRank](https://networkx.org/documentation/stable/reference/algorithms/generated/networkx.algorithms.link_analysis.pagerank_alg.pagerank.html#networkx.algorithms.link_analysis.pagerank_alg.pagerank)的示例"
   ],
   "metadata": {
    "collapsed": false,
    "pycharm": {
     "name": "#%% md\n"
    }
   }
  },
  {
   "cell_type": "code",
   "execution_count": 9,
   "outputs": [
    {
     "data": {
      "text/plain": "{0: 0.17857162031103999,\n 1: 0.32142837968896,\n 2: 0.32142837968896,\n 3: 0.17857162031103999}"
     },
     "execution_count": 9,
     "metadata": {},
     "output_type": "execute_result"
    },
    {
     "data": {
      "text/plain": "<Figure size 432x288 with 1 Axes>",
      "image/png": "[encoded data removed]"
     },
     "metadata": {},
     "output_type": "display_data"
    }
   ],
   "source": [
    "num_nodes = 4\n",
    "# 创建一个新的路径像图，并改变它为一个有向图形\n",
    "G = nx.DiGraph(nx.path_graph(num_nodes))\n",
    "nx.draw(G, with_labels = True)\n",
    "\n",
    "pr = nx.pagerank(G, alpha=0.8)\n",
    "pr"
   ],
   "metadata": {
    "collapsed": false,
    "pycharm": {
     "name": "#%%\n"
    }
   }
  }
 ],
 "metadata": {
  "kernelspec": {
   "display_name": "Python 3",
   "language": "python",
   "name": "python3"
  },
  "language_info": {
   "codemirror_mode": {
    "name": "ipython",
    "version": 2
   },
   "file_extension": ".py",
   "mimetype": "text/x-python",
   "name": "python",
   "nbconvert_exporter": "python",
   "pygments_lexer": "ipython2",
   "version": "2.7.6"
  }
 },
 "nbformat": 4,
 "nbformat_minor": 0
}